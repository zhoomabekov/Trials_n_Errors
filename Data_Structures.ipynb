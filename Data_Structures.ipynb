{
 "cells": [
  {
   "cell_type": "code",
   "execution_count": null,
   "id": "13467370-b603-408f-9f9f-ab5109b1fb14",
   "metadata": {},
   "outputs": [],
   "source": [
    "import os\n",
    "\n",
    "start_path = os.getcwd()\n",
    "print(start_path)\n",
    "os.chdir(\"..\")\n",
    "print(os.getcwd())\n",
    "os.chdir(start_path)\n",
    "print(start_path)"
   ]
  },
  {
   "cell_type": "code",
   "execution_count": null,
   "id": "ca00e308-bbc8-4d69-a651-56dfbe984c48",
   "metadata": {},
   "outputs": [],
   "source": [
    "import os\n",
    "print(os.listdir())"
   ]
  },
  {
   "cell_type": "code",
   "execution_count": null,
   "id": "acfb42d5-1f08-43ad-8f12-cc229b5eb8a6",
   "metadata": {},
   "outputs": [],
   "source": [
    "from time import gmtime, strftime\n",
    "\n",
    "strftime(\"%m\", gmtime())"
   ]
  },
  {
   "cell_type": "code",
   "execution_count": null,
   "id": "0ddc2ef1-0190-4080-b510-c22b988bcffb",
   "metadata": {},
   "outputs": [],
   "source": [
    "import os\n",
    "\n",
    "def contents():\n",
    "    path = input('insert path')\n",
    "    os.chdir(path)\n",
    "    print(os.listdir())\n",
    "\n",
    "contents()   "
   ]
  },
  {
   "cell_type": "code",
   "execution_count": null,
   "id": "3a10a276-57e7-4c82-885c-636389473b61",
   "metadata": {},
   "outputs": [],
   "source": [
    "import os\n",
    "\n",
    "def walk_desc(path=None):\n",
    "   start_path = path if path is not None else os.getcwd()\n",
    "\n",
    "   for root, dirs, files in os.walk(start_path):\n",
    "       print(\"Текущая директория\", root)\n",
    "       print(\"---\")\n",
    "      \n",
    "       if dirs:\n",
    "           print(\"Список папок\", dirs)\n",
    "       else:\n",
    "           print(\"Папок нет\")\n",
    "       print(\"---\")\n",
    "      \n",
    "       if files:\n",
    "           print(\"Список файлов\", files)\n",
    "       else:\n",
    "           print(\"Файлов нет\")\n",
    "       print(\"---\")\n",
    "      \n",
    "       if files and dirs:\n",
    "           print(\"Все пути:\")\n",
    "       for f in files:\n",
    "           print(\"Файл \", os.path.join(root, f))\n",
    "       for d in dirs:\n",
    "           print(\"Папка \", os.path.join(root, d))\n",
    "       print(\"===\")\n",
    "\n",
    "walk_desc()"
   ]
  },
  {
   "cell_type": "code",
   "execution_count": null,
   "id": "5959d203-7148-4165-8c50-adea11027c4c",
   "metadata": {},
   "outputs": [],
   "source": [
    "import os\n",
    "\n",
    "os.chdir('C:\\\\Users\\\\user\\\\Documents\\\\First Library')\n",
    "\n",
    "\n",
    "f = open('test.txt', 'w', encoding='utf8')\n",
    " \n",
    "# Запишем в файл строку\n",
    "f.write(\"This is a test string\\n\")\n",
    "f.write(\"This is a new string\\n\")\n",
    "\n",
    "f.close()"
   ]
  },
  {
   "cell_type": "code",
   "execution_count": null,
   "id": "49a3425d-3d37-4110-8b5e-7e5a44e369b4",
   "metadata": {},
   "outputs": [],
   "source": [
    "import os\n",
    "\n",
    "print(os.getcwd())\n",
    "f = open('test.txt', 'r', encoding='utf8')"
   ]
  },
  {
   "cell_type": "code",
   "execution_count": null,
   "id": "c4f1047f-fea6-4b02-a912-8ccf9c5db059",
   "metadata": {},
   "outputs": [],
   "source": [
    "import timeit\n",
    "\n",
    "def elapsed_time(func, size):\n",
    "    return timeit.timeit(func % size, number=1000)/1000\n",
    "\n",
    "code_append = \"\"\"\n",
    "elements = range(%d) # генератор элементов, которые будут вставляться в список\n",
    "array = [] # список, работу которого тестируем\n",
    "for e in elements:\n",
    "    array.append(e) # добавляем каждый раз в конец\n",
    "\"\"\"\n",
    "\n",
    "for s in range(10,15):\n",
    "    measure_1 = elapsed_time(code_append, 2**s)\n",
    "    measure_2 = elapsed_time(code_append, 2**(s+1))\n",
    "    ratio = measure_2 / measure_1\n",
    "    print(\"[%d]/[%d] -> %.2f\" % (2**(s+1), 2**s, ratio))"
   ]
  },
  {
   "cell_type": "code",
   "execution_count": null,
   "id": "63852934-113c-47b2-9ab4-eb700a07bb70",
   "metadata": {},
   "outputs": [],
   "source": [
    "import timeit\n",
    "\n",
    "def elapsed_time(func, size):\n",
    "    return timeit.timeit(func % size, number=100)/100\n",
    "\n",
    "code_append = \"\"\"\n",
    "elements = range(%d) # генератор элементов, которые будут вставляться в список\n",
    "array = [] # список, работу которого тестируем\n",
    "for e in elements:\n",
    "    array.insert(0, e) # добавляем каждый раз в начало\n",
    "\"\"\"\n",
    "\n",
    "for s in range(10,15):\n",
    "    measure_1 = elapsed_time(code_append, 2**s)\n",
    "    measure_2 = elapsed_time(code_append, 2**(s+1))\n",
    "    ratio = measure_2 / measure_1\n",
    "    print(\"[%d]/[%d] -> %5.2f\" % (2**(s+1), 2**s, ratio))"
   ]
  },
  {
   "cell_type": "code",
   "execution_count": null,
   "id": "ead87ae8-ef53-49d4-aab9-2358445d1427",
   "metadata": {},
   "outputs": [],
   "source": [
    "print(\"hello\")\n",
    "print(\"%5.1f\" % (0.5678))"
   ]
  },
  {
   "cell_type": "code",
   "execution_count": null,
   "id": "28e01824-c447-4eb7-adbc-e6bdf5b07dba",
   "metadata": {},
   "outputs": [],
   "source": [
    "def recur(n):\n",
    "    if n == 0:\n",
    "        return\n",
    "    else:\n",
    "        recur(n-1)\n",
    "        print(n)\n",
    "\n",
    "print(recur(5))"
   ]
  },
  {
   "cell_type": "code",
   "execution_count": null,
   "id": "9dd2cbee-b092-4498-92d2-76e368806be0",
   "metadata": {},
   "outputs": [],
   "source": [
    "def par_checker(string):\n",
    "    stack = []  # инициализируем стек\n",
    "    \n",
    "    for s in string:  # читаем строку посимвольно\n",
    "        if s == \"(\":  # если открывающая скобка, \n",
    "            print('appending \"(\"')\n",
    "            stack.append(s)  # добавляем её в стек\n",
    "        elif s == \")\": \n",
    "            # если встретилась закрывающая скобка, то проверяем,\n",
    "            # пуст ли стек и является ли верхний элемент открывающей скобкой\n",
    "            if len(stack) > 0 and stack[-1] == \"(\":\n",
    "                print('popping')\n",
    "                stack.pop()  # удаляем из стека\n",
    "            else:  # иначе завершаем функцию с False\n",
    "                return False\n",
    "    # если стек пустой, то незакрытых скобок не осталось\n",
    "    # значит возвращаем True, иначе - False\n",
    "    return len(stack) == 0 "
   ]
  },
  {
   "cell_type": "code",
   "execution_count": null,
   "id": "4db8c366-27ce-4297-b794-f42efcc1ea8a",
   "metadata": {},
   "outputs": [],
   "source": [
    "par_checker('print(len([1,2,3]))')"
   ]
  },
  {
   "cell_type": "code",
   "execution_count": null,
   "id": "54186f9b-6a11-4a22-828b-d001f0e3d48c",
   "metadata": {},
   "outputs": [],
   "source": [
    "def par_checker(string):\n",
    "    stack = []  # инициализируем стек    \n",
    "    d = {\n",
    "        ')' : '(',\n",
    "        ']' : '[',\n",
    "        }\n",
    "    \n",
    "    for s in string:  # читаем строку посимвольно\n",
    "        if s == '(' or s == '[':\n",
    "            stack.append(s)\n",
    "        elif s in d.keys():\n",
    "            if len(stack) > 0 and d[s] == stack[-1]:\n",
    "                stack.pop()\n",
    "            else:\n",
    "                return False\n",
    "                \n",
    "    return len(stack) == 0 \n",
    "\n",
    "par_checker('abc[qwe[[asd]]]')"
   ]
  },
  {
   "cell_type": "code",
   "execution_count": null,
   "id": "eba7f49c-f2b5-43bf-abf1-25af8abab820",
   "metadata": {},
   "outputs": [],
   "source": [
    "a = {\n",
    "    ')' : '(',\n",
    "    ']' : '['\n",
    "    }\n",
    "\n",
    "if ')' in a.keys():\n",
    "    print('Yes')\n",
    "else:\n",
    "    print('No')"
   ]
  },
  {
   "cell_type": "code",
   "execution_count": null,
   "id": "12d7788c-5275-4787-9790-44af53f78721",
   "metadata": {},
   "outputs": [],
   "source": [
    "# Создадим класс Queue — нужная нам очередь\n",
    "class Queue:\n",
    "    # Конструктор нашего класса, в нём происходит нужная инициализация объекта\n",
    "    def __init__(self, max_size):\n",
    "        self.max_size = max_size  # размер очереди\n",
    "        self.task_num = 0  # будем хранить сквозной номер задачи\n",
    "\n",
    "        self.tasks = [0 for _ in range(self.max_size)]  # инициализируем список с нулевыми элементами\n",
    "        self.head = 0  # указатель на начало очереди\n",
    "        self.tail = 0  # указатель на элемент следующий за концом очереди\n",
    "    \n",
    "    def is_empty(self):\n",
    "        return self.head == self.tail and self.tasks[self.head] == 0\n",
    "    \n",
    "    def size(self):\n",
    "        if self.is_empty():   # определяем 0-размерный список\n",
    "            return 0\n",
    "        elif self.head == self.tail:   # определяем полный список\n",
    "            return self.max_size\n",
    "        elif self.head > self.tail:   # определяем неполный список (закольцовано)\n",
    "            return self.tail + self.max_size - self.head\n",
    "        else:   # неполный список (не закольцовано)\n",
    "            return self.tail - self.head\n",
    "    \n",
    "    def add(self):\n",
    "        self.task_num +=1\n",
    "        self.tasks[self.tail] = self.task_num\n",
    "        print(f'Задача №{self.task_num} добавлена')\n",
    "        \n",
    "        self.tail = (self.tail + 1) % self.max_size\n",
    "        \n",
    "    def show(self):\n",
    "        print(f'Задача №{self.tasks[self.head]} в приоритете')\n",
    "        \n",
    "    def do(self):\n",
    "        print(f'Задача №{self.tasks[self.head]} выполнена')\n",
    "        self.tasks[self.head] = 0\n",
    "        self.head = (self.head + 1) % self.max_size\n",
    "        \n",
    "# Используем класс\n",
    "size = int(input(\"Определите размер очереди: \"))\n",
    "q = Queue(size)\n",
    "\n",
    "while True:\n",
    "    cmd = input(\"Введите команду:\")        \n",
    "    if cmd == \"empty\": \n",
    "        if q.is_empty():\n",
    "            print(\"Очередь пустая\")\n",
    "        else:\n",
    "            print(\"В очереди есть задачи\")\n",
    "    elif cmd == \"size\":\n",
    "        print(\"Количество задач в очереди:\", q.size())\n",
    "    elif cmd == \"add\": \n",
    "        if q.size() != q.max_size:\n",
    "            q.add()\n",
    "        else:\n",
    "            print(\"Очередь переполнена\")\n",
    "    elif cmd == \"show\": \n",
    "        if q.is_empty():\n",
    "            print(\"Очередь пустая\")\n",
    "        else:\n",
    "            q.show()\n",
    "    elif cmd == \"do\": \n",
    "        if q.is_empty():\n",
    "            print(\"Очередь пустая\")\n",
    "        else:\n",
    "            q.do()\n",
    "    elif cmd == \"exit\": \n",
    "        for _ in range(q.size()):\n",
    "            q.do()\n",
    "        print(\"Очередь пустая. Завершение работы\")\n",
    "        break\n",
    "    else:\n",
    "        print(\"Введена неверная команда\")"
   ]
  },
  {
   "cell_type": "code",
   "execution_count": 2,
   "id": "e5e4335a-1e68-4bcf-92b8-6340872dc749",
   "metadata": {},
   "outputs": [
    {
     "name": "stdout",
     "output_type": "stream",
     "text": [
      "['Адмиралтейская', 'Садовая', 'Звенигородская', 'Пушкинская']\n",
      "Время в пути: 12 мин\n"
     ]
    }
   ],
   "source": [
    "G = {\n",
    "    \"Адмиралтейская\": {\n",
    "        \"Садовая\": 4},\n",
    "    \"Садовая\": {\n",
    "        \"Сенная площадь\": 4,\n",
    "        \"Спасская\": 3,\n",
    "        \"Адмиралтейская\": 4,\n",
    "        \"Звенигородская\": 5},\n",
    "    \"Сенная площадь\": {\n",
    "        \"Садовая\": 4,\n",
    "        \"Спасская\": 4},\n",
    "    \"Спасская\": {\n",
    "        \"Садовая\": 3,\n",
    "        \"Сенная площадь\": 4,\n",
    "        \"Достоевская\": 6},\n",
    "    \"Звенигородская\": {\n",
    "        \"Пушкинская\": 3,\n",
    "        \"Садовая\": 5},\n",
    "    \"Пушкинская\": {\n",
    "        \"Звенигородская\": 3,\n",
    "        \"Владимирская\": 4},\n",
    "    \"Владимирская\": {\n",
    "        \"Достоевская\": 3,\n",
    "        \"Пушкинская\": 4},\n",
    "    \"Достоевская\": {\n",
    "        \"Владимирская\": 3,\n",
    "        \"Спасская\": 6}\n",
    "}\n",
    "\n",
    "D = {k: 100 for k in G.keys()}  # расстояния\n",
    "start_k = 'Адмиралтейская'  # стартовая вершина\n",
    "D[start_k] = 0  # расстояние от неё до самой себя равно нулю\n",
    "U = {k: False for k in G.keys()}  # флаги просмотра вершин\n",
    "P = {k: None for k in G.keys()}  # предки\n",
    "\n",
    "for _ in range(len(D)):\n",
    "    # выбираем среди непросмотренных наименьшее по расстоянию\n",
    "    min_k = min([k for k in U.keys() if not U[k]], key=lambda x: D[x])\n",
    "\n",
    "    for v in G[min_k].keys():  # проходимся по всем смежным вершинам\n",
    "        D[v] = min(D[v], D[min_k] + G[min_k][v])  # минимум\n",
    "\n",
    "        if P[min_k] is None:\n",
    "            P[min_k] = v\n",
    "        else:\n",
    "            if D[v] + G[min_k][v] < D[P[min_k]] + G[min_k][P[min_k]]:\n",
    "                P[min_k] = v\n",
    "\n",
    "    U[min_k] = True  # просмотренную вершину помечаем\n",
    "\n",
    "dest = \"Пушкинская\"\n",
    "path = [dest]\n",
    "while path[-1] != start_k:\n",
    "    path.append(P[dest])\n",
    "    dest = P[dest]\n",
    "\n",
    "path.reverse()\n",
    "print(path)\n",
    "print(f'Время в пути: {D[path[-1]]} мин')"
   ]
  },
  {
   "cell_type": "code",
   "execution_count": 62,
   "id": "4aef2c89-e94b-4768-a567-a2811b875e82",
   "metadata": {},
   "outputs": [],
   "source": [
    "class BinaryTree:\n",
    "    def __init__(self, value):\n",
    "        self.value = value\n",
    "        self.left_child = None\n",
    "        self.right_child = None\n",
    "        \n",
    "    def insert_left(self, next_value):\n",
    "        if self.left_child is None:\n",
    "            self.left_child = BinaryTree(next_value)\n",
    "        else:\n",
    "            new_child = BinaryTree(next_value)\n",
    "            new_child.left_child = self.left_child\n",
    "            self.left_child = new_child\n",
    "        return self\n",
    "    \n",
    "    def insert_right(self, next_value):\n",
    "        if self.right_child is None:\n",
    "            self.right_child = BinaryTree(next_value)\n",
    "        else:\n",
    "            new_child = BinaryTree(next_value)\n",
    "            new_child.right_child = self.right_child\n",
    "            self.right_child = new_child\n",
    "        return self\n",
    "    \n",
    "    def pre_order(self):\n",
    "        print(self.value)  # процедура обработки\n",
    "\n",
    "        if self.left_child is not None:  # если левый потомок существует\n",
    "            self.left_child.pre_order()  # рекурсивно вызываем функцию\n",
    "\n",
    "        if self.right_child is not None:  # если правый потомок существует\n",
    "            self.right_child.pre_order()  # рекурсивно вызываем функцию\n",
    "            \n",
    "    def post_order(self):\n",
    "\n",
    "        if self.left_child:  # если левый потомок существует\n",
    "            self.left_child.post_order()  # рекурсивно вызываем функцию\n",
    "\n",
    "        if self.right_child:  # если правый потомок существует\n",
    "            self.right_child.post_order()  # рекурсивно вызываем функцию\n",
    "        \n",
    "        print(self.value)\n",
    "        \n",
    "    def in_order(self):\n",
    "\n",
    "        if self.left_child:  # если левый потомок существует\n",
    "            self.left_child.in_order()  # рекурсивно вызываем функцию\n",
    "            \n",
    "        print(self.value)\n",
    "\n",
    "        if self.right_child:  # если правый потомок существует\n",
    "            self.right_child.in_order()  # рекурсивно вызываем функцию\n",
    "        \n",
    "#     def breadth(self):\n",
    "#         print(self.value)  # процедура обработки\n",
    "        \n",
    "#         if self.left_child and self.right_child:\n",
    "            \n",
    "\n",
    "Root = BinaryTree(2).insert_left(7).insert_right(5)\n",
    "L = Root.left_child.insert_left(2).insert_right(6)\n",
    "LR = L.right_child.insert_left(5).insert_right(11)\n",
    "R = Root.right_child.insert_right(9)\n",
    "RR = R.right_child.insert_left(4)"
   ]
  },
  {
   "cell_type": "code",
   "execution_count": null,
   "id": "08e9f251-75e2-4460-8dd5-883346f6f642",
   "metadata": {},
   "outputs": [],
   "source": [
    "print('Pre-order:')\n",
    "Root.pre_order()\n",
    "print('Post-order:')\n",
    "Root.post_order()"
   ]
  },
  {
   "cell_type": "code",
   "execution_count": 87,
   "id": "1b24bb62",
   "metadata": {},
   "outputs": [],
   "source": [
    "class Node:  # класс элемента\n",
    "    def __init__(self, value = None, next_ = None):  # инициализируем\n",
    "        self.value = value  # значением\n",
    "        self.next = next_  # и ссылкой на следующий элемент\n",
    "\n",
    "    def __str__(self):\n",
    "        return \"Node value = \" + str(self.value)\n",
    "\n",
    "\n",
    "class LinkedList:  # класс списка\n",
    "    def __init__(self):  # инициализируем пустым\n",
    "        self.first = None\n",
    "        self.last = None\n",
    "        \n",
    "    def clear(self):  # очищаем список\n",
    "        self.__init__()\n",
    "    \n",
    "    def __str__(self):  # функция печати \n",
    "        R = ''\n",
    "        \n",
    "        pointer = self.first  # берём первый указатель\n",
    "        while pointer is not None:  # пока указатель не станет None\n",
    "            R += str(pointer.value)  # добавляем значение в строку\n",
    "            pointer = pointer.next  # идём дальше по указателю\n",
    "            if pointer is not None:  # если он существует, добавляем пробел\n",
    "                R += ' '\n",
    "        return R\n",
    "    \n",
    "    def pushleft(self, value):\n",
    "        if self.first is None:\n",
    "            self.first = Node(value)\n",
    "            self.last = self.first\n",
    "        else:\n",
    "            new_node = Node(value, self.first)\n",
    "            self.first = new_node\n",
    "    \n",
    "    def pushright(self, value):\n",
    "        if self.first is None:\n",
    "            self.last = Node(value)\n",
    "            self.first = self.last\n",
    "        else:\n",
    "            new_node = Node(value)\n",
    "            self.last.next = new_node\n",
    "            self.last = new_node\n",
    "            \n",
    "    def popleft(self):\n",
    "        if self.first is None:  # если список пустой, возвращаем None\n",
    "            return None\n",
    "        elif self.first == self.last:  # если список содержит только один элемент\n",
    "            node = self.first  # сохраняем его\n",
    "            self.__init__()  # очищаем\n",
    "            return node  # и возвращаем сохранённый элемент\n",
    "        else:\n",
    "            node = self.first  # сохраняем первый элемент\n",
    "            self.first = self.first.next  # меняем указатель на первый элемент\n",
    "            return node  # возвращаем сохранённый\n",
    "        \n",
    "    def popright(self): \n",
    "        if self.first is None:  # если список пустой, возвращаем None\n",
    "            return None\n",
    "        elif self.first == self.last: #  если список содержит только один элемент\n",
    "            node = self.first  # сохраняем его\n",
    "            self.__init__()  # очищаем\n",
    "            return node #  и возвращаем сохраненный элемент\n",
    "        else:\n",
    "            node = self.last  # сохраняем последний\n",
    "            pointer = self.first  # создаём указатель\n",
    "            while pointer.next is not node:  # пока не найдём предпоследний\n",
    "                pointer = pointer.next\n",
    "            pointer.next = None  # обнуляем указатели, чтобы\n",
    "            self.last = pointer  # предпоследний стал последним\n",
    "            return node  # возвращаем сохранённый\n",
    "        \n",
    "    def __iter__(self):  # объявляем класс как итератор\n",
    "        self.current = self.first  # в текущий элемент помещаем первый\n",
    "        return self  # возвращаем итератор\n",
    "\n",
    "    def __next__(self):  # метод перехода\n",
    "        if self.current is None:  # если текущий стал последним\n",
    "            raise StopIteration  # вызываем исключение\n",
    "        else:\n",
    "            node = self.current  # сохраняем текущий элемент\n",
    "            self.current = self.current.next  # совершаем переход\n",
    "            return node  # и возвращаем сохранённый\n",
    "        \n",
    "    def __len__(self):\n",
    "        count = 0\n",
    "        pointer = self.first\n",
    "        while pointer is not None:\n",
    "            count += 1\n",
    "            pointer = pointer.next\n",
    "        return count"
   ]
  },
  {
   "cell_type": "code",
   "execution_count": 90,
   "id": "4578c0dd",
   "metadata": {},
   "outputs": [
    {
     "name": "stdout",
     "output_type": "stream",
     "text": [
      "2 1 5\n",
      "3\n"
     ]
    }
   ],
   "source": [
    "LL = LinkedList()\n",
    "\n",
    "LL.pushright(1)\n",
    "LL.pushleft(2)\n",
    "LL.pushright(3)\n",
    "LL.popright()\n",
    "LL.pushleft(4)\n",
    "LL.pushright(5)\n",
    "LL.popleft()\n",
    "\n",
    "print(LL)\n",
    "print(len(LL))"
   ]
  },
  {
   "cell_type": "code",
   "execution_count": 91,
   "id": "55f89ccf",
   "metadata": {},
   "outputs": [
    {
     "name": "stdout",
     "output_type": "stream",
     "text": [
      "1 5 7 9 6 3\n",
      "9\n",
      "3\n"
     ]
    }
   ],
   "source": [
    "def find(array, element):\n",
    "    for i, a in enumerate(array):\n",
    "        if a == element:\n",
    "            return i\n",
    "    return False\n",
    "\n",
    "array = list(map(int, input().split()))\n",
    "element = int(input())\n",
    "\n",
    "print(find(array, element))"
   ]
  },
  {
   "cell_type": "code",
   "execution_count": 93,
   "id": "b59ddf71",
   "metadata": {},
   "outputs": [
    {
     "name": "stdout",
     "output_type": "stream",
     "text": [
      "1 5 6 5 4 5 9\n",
      "5\n",
      "3\n"
     ]
    }
   ],
   "source": [
    "def count(array, element):\n",
    "    num = 0\n",
    "    for a in array:\n",
    "        if a == element:\n",
    "            num += 1\n",
    "    return num\n",
    "\n",
    "array = list(map(int, input().split()))\n",
    "element = int(input())\n",
    "\n",
    "print(count(array, element))"
   ]
  },
  {
   "cell_type": "code",
   "execution_count": 100,
   "id": "3968030d",
   "metadata": {},
   "outputs": [
    {
     "name": "stdout",
     "output_type": "stream",
     "text": [
      "[1, 2, 3, 4, 5, 6, 7, 8, 9]\n",
      "36\n"
     ]
    }
   ],
   "source": [
    "array = [2, 3, 1, 4, 6, 5, 9, 8, 7]\n",
    "count = 0\n",
    "for i in range(len(array)): # проходим по всему массиву\n",
    "\n",
    "        idx_min = i # сохраняем индекс предположительно минимального элемента\n",
    "        for j in range(i+1, len(array)):\n",
    "            count += 1\n",
    "            if array[j] < array[idx_min]:\n",
    "                    idx_min = j\n",
    "        if i != idx_min: # если индекс не совпадает с минимальным, меняем\n",
    "                array[i], array[idx_min] = array[idx_min], array[i]\n",
    "\n",
    "print(array)\n",
    "print(count)"
   ]
  },
  {
   "cell_type": "code",
   "execution_count": 98,
   "id": "880fc218",
   "metadata": {},
   "outputs": [
    {
     "name": "stdout",
     "output_type": "stream",
     "text": [
      "[9, 8, 7, 6, 5, 4, 3, 2, 1]\n"
     ]
    }
   ],
   "source": [
    "array = [2, 3, 1, 4, 6, 5, 9, 8, 7]\n",
    "for i in range(len(array)): # проходим по всему массиву\n",
    "\n",
    "        idx_max = i # сохраняем индекс предположительно макс элемента\n",
    "        for j in range(i+1, len(array)):\n",
    "                if array[j] > array[idx_max]:\n",
    "                        idx_max = j\n",
    "        if i != idx_max: # если индекс не совпадает с макс, меняем\n",
    "                array[i], array[idx_max] = array[idx_max], array[i]\n",
    "\n",
    "print(array)"
   ]
  },
  {
   "cell_type": "code",
   "execution_count": 103,
   "id": "6bd6b360",
   "metadata": {},
   "outputs": [
    {
     "name": "stdout",
     "output_type": "stream",
     "text": [
      "[1, 2, 3, 4, 5, 6, 7, 8, 9]\n",
      "36\n"
     ]
    }
   ],
   "source": [
    "array = [2, 3, 1, 4, 6, 5, 9, 8, 7]\n",
    "count = 0\n",
    "for i in range(len(array)):\n",
    "    for j in range(len(array)-i-1):\n",
    "        count += 1\n",
    "        if array[j] > array[j+1]:\n",
    "            array[j], array[j+1] = array[j+1], array[j]\n",
    "        \n",
    "print(array)\n",
    "print(count)"
   ]
  },
  {
   "cell_type": "code",
   "execution_count": 114,
   "id": "9bc5b272",
   "metadata": {},
   "outputs": [
    {
     "name": "stdout",
     "output_type": "stream",
     "text": [
      "[1, 2, 3, 4, 5, 6, 7, 8, 9]\n"
     ]
    }
   ],
   "source": [
    "array = [2, 3, 1, 4, 6, 5, 9, 8, 7]\n",
    "d = None\n",
    "for i in range(1, len(array)):\n",
    "    d = array[i]\n",
    "    for j in range(-(len(array) - i + 1), -(len(array) + 1), -1):\n",
    "        if array[j] > d:\n",
    "            array[j + 1] = array[j]\n",
    "            if j == -(len(array)):\n",
    "                array[j] = d\n",
    "            elif array[j - 1] < d:\n",
    "                array[j] = d\n",
    "\n",
    "print(array)    \n",
    "            "
   ]
  },
  {
   "cell_type": "code",
   "execution_count": 104,
   "id": "844a7e38",
   "metadata": {},
   "outputs": [
    {
     "name": "stdout",
     "output_type": "stream",
     "text": [
      "0\n",
      "1\n",
      "2\n",
      "3\n",
      "4\n",
      "5\n"
     ]
    }
   ],
   "source": []
  },
  {
   "cell_type": "code",
   "execution_count": null,
   "id": "4b444486",
   "metadata": {},
   "outputs": [],
   "source": []
  },
  {
   "cell_type": "code",
   "execution_count": null,
   "id": "30e2933e",
   "metadata": {},
   "outputs": [],
   "source": []
  },
  {
   "cell_type": "code",
   "execution_count": null,
   "id": "0a2a34fc",
   "metadata": {},
   "outputs": [],
   "source": []
  },
  {
   "cell_type": "code",
   "execution_count": null,
   "id": "c71fd626",
   "metadata": {},
   "outputs": [],
   "source": []
  },
  {
   "cell_type": "code",
   "execution_count": null,
   "id": "440cf54d",
   "metadata": {},
   "outputs": [],
   "source": []
  },
  {
   "cell_type": "code",
   "execution_count": null,
   "id": "81938341",
   "metadata": {},
   "outputs": [],
   "source": []
  },
  {
   "cell_type": "code",
   "execution_count": null,
   "id": "6ace8e87",
   "metadata": {},
   "outputs": [],
   "source": []
  },
  {
   "cell_type": "code",
   "execution_count": null,
   "id": "c10dea42",
   "metadata": {},
   "outputs": [],
   "source": []
  },
  {
   "cell_type": "code",
   "execution_count": null,
   "id": "d5ac52c8",
   "metadata": {},
   "outputs": [],
   "source": []
  }
 ],
 "metadata": {
  "kernelspec": {
   "display_name": "Python 3 (ipykernel)",
   "language": "python",
   "name": "python3"
  },
  "language_info": {
   "codemirror_mode": {
    "name": "ipython",
    "version": 3
   },
   "file_extension": ".py",
   "mimetype": "text/x-python",
   "name": "python",
   "nbconvert_exporter": "python",
   "pygments_lexer": "ipython3",
   "version": "3.9.7"
  }
 },
 "nbformat": 4,
 "nbformat_minor": 5
}
