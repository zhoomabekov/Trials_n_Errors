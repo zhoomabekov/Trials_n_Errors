{
 "cells": [
  {
   "cell_type": "code",
   "execution_count": 1,
   "id": "13467370-b603-408f-9f9f-ab5109b1fb14",
   "metadata": {},
   "outputs": [
    {
     "name": "stdout",
     "output_type": "stream",
     "text": [
      "C:\\Users\\user\\Documents\\GitHub\\MyFirstModule\n",
      "C:\\Users\\user\\Documents\\GitHub\n",
      "C:\\Users\\user\\Documents\\GitHub\\MyFirstModule\n"
     ]
    }
   ],
   "source": [
    "import os\n",
    "\n",
    "start_path = os.getcwd()\n",
    "print(start_path)\n",
    "os.chdir(\"..\")\n",
    "print(os.getcwd())\n",
    "os.chdir(start_path)\n",
    "print(start_path)"
   ]
  },
  {
   "cell_type": "code",
   "execution_count": 2,
   "id": "ca00e308-bbc8-4d69-a651-56dfbe984c48",
   "metadata": {},
   "outputs": [
    {
     "name": "stdout",
     "output_type": "stream",
     "text": [
      "['.idea', '.ipynb_checkpoints', 'AreaCalc.py', 'main.py', 'UI.py', 'Untitled.ipynb', 'venv', '__pycache__']\n"
     ]
    }
   ],
   "source": [
    "import os\n",
    "print(os.listdir())"
   ]
  },
  {
   "cell_type": "code",
   "execution_count": 2,
   "id": "acfb42d5-1f08-43ad-8f12-cc229b5eb8a6",
   "metadata": {},
   "outputs": [
    {
     "data": {
      "text/plain": [
       "'12'"
      ]
     },
     "execution_count": 2,
     "metadata": {},
     "output_type": "execute_result"
    }
   ],
   "source": [
    "from time import gmtime, strftime\n",
    "\n",
    "strftime(\"%m\", gmtime())\n"
   ]
  },
  {
   "cell_type": "code",
   "execution_count": 15,
   "id": "0ddc2ef1-0190-4080-b510-c22b988bcffb",
   "metadata": {},
   "outputs": [
    {
     "name": "stdin",
     "output_type": "stream",
     "text": [
      "insert path C:\\Users\\user\\Documents\\First Library\n"
     ]
    },
    {
     "name": "stdout",
     "output_type": "stream",
     "text": [
      "['.ipynb_checkpoints', 'function.py', 'python.py']\n"
     ]
    }
   ],
   "source": [
    "import os\n",
    "\n",
    "def contents():\n",
    "    path = input('insert path')\n",
    "    os.chdir(path)\n",
    "    print(os.listdir())\n",
    "\n",
    "    \n",
    "contents()\n",
    "    "
   ]
  },
  {
   "cell_type": "code",
   "execution_count": 6,
   "id": "3a10a276-57e7-4c82-885c-636389473b61",
   "metadata": {},
   "outputs": [
    {
     "name": "stdout",
     "output_type": "stream",
     "text": [
      "Текущая директория D:\\\n",
      "---\n",
      "Список папок ['$RECYCLE.BIN', 'PSAutoRecover', 'Scan', 'soft', 'System Volume Information']\n",
      "---\n",
      "Список файлов ['VTS_01_3 - Жанар.VOB']\n",
      "---\n",
      "Все пути:\n",
      "Файл  D:\\VTS_01_3 - Жанар.VOB\n",
      "Папка  D:\\$RECYCLE.BIN\n",
      "Папка  D:\\PSAutoRecover\n",
      "Папка  D:\\Scan\n",
      "Папка  D:\\soft\n",
      "Папка  D:\\System Volume Information\n",
      "===\n",
      "Текущая директория D:\\$RECYCLE.BIN\n",
      "---\n",
      "Список папок ['S-1-5-21-1851348839-324532317-1965354558-1000', 'S-1-5-21-1851348839-324532317-1965354558-1001']\n",
      "---\n",
      "Файлов нет\n",
      "---\n",
      "Папка  D:\\$RECYCLE.BIN\\S-1-5-21-1851348839-324532317-1965354558-1000\n",
      "Папка  D:\\$RECYCLE.BIN\\S-1-5-21-1851348839-324532317-1965354558-1001\n",
      "===\n",
      "Текущая директория D:\\$RECYCLE.BIN\\S-1-5-21-1851348839-324532317-1965354558-1000\n",
      "---\n",
      "Папок нет\n",
      "---\n",
      "Список файлов ['desktop.ini']\n",
      "---\n",
      "Файл  D:\\$RECYCLE.BIN\\S-1-5-21-1851348839-324532317-1965354558-1000\\desktop.ini\n",
      "===\n",
      "Текущая директория D:\\PSAutoRecover\n",
      "---\n",
      "Список папок ['user']\n",
      "---\n",
      "Файлов нет\n",
      "---\n",
      "Папка  D:\\PSAutoRecover\\user\n",
      "===\n",
      "Текущая директория D:\\PSAutoRecover\\user\n",
      "---\n",
      "Папок нет\n",
      "---\n",
      "Файлов нет\n",
      "---\n",
      "===\n",
      "Текущая директория D:\\Scan\n",
      "---\n",
      "Папок нет\n",
      "---\n",
      "Список файлов ['Xerox Scan_31012021131057.PDF']\n",
      "---\n",
      "Файл  D:\\Scan\\Xerox Scan_31012021131057.PDF\n",
      "===\n",
      "Текущая директория D:\\soft\n",
      "---\n",
      "Список папок ['Microsoft Office 2010 with SP2 VL [SELECT] Russian']\n",
      "---\n",
      "Список файлов ['Adobe Premiere Pro CC 2020 14.0.0.571 RePack by KpoJIuK.exe', 'AnyDesk.exe']\n",
      "---\n",
      "Все пути:\n",
      "Файл  D:\\soft\\Adobe Premiere Pro CC 2020 14.0.0.571 RePack by KpoJIuK.exe\n",
      "Файл  D:\\soft\\AnyDesk.exe\n",
      "Папка  D:\\soft\\Microsoft Office 2010 with SP2 VL [SELECT] Russian\n",
      "===\n",
      "Текущая директория D:\\soft\\Microsoft Office 2010 with SP2 VL [SELECT] Russian\n",
      "---\n",
      "Список папок ['MICROSOFT.OFFICE.2010.SELECT.EDITION.SP2.VOLUME.X64.DVD.RUSSIAN-KROKOZ', 'MICROSOFT.OFFICE.2010.SELECT.EDITION.SP2.VOLUME.X86.DVD.RUSSIAN-KROKOZ']\n",
      "---\n",
      "Файлов нет\n",
      "---\n",
      "Папка  D:\\soft\\Microsoft Office 2010 with SP2 VL [SELECT] Russian\\MICROSOFT.OFFICE.2010.SELECT.EDITION.SP2.VOLUME.X64.DVD.RUSSIAN-KROKOZ\n",
      "Папка  D:\\soft\\Microsoft Office 2010 with SP2 VL [SELECT] Russian\\MICROSOFT.OFFICE.2010.SELECT.EDITION.SP2.VOLUME.X86.DVD.RUSSIAN-KROKOZ\n",
      "===\n",
      "Текущая директория D:\\soft\\Microsoft Office 2010 with SP2 VL [SELECT] Russian\\MICROSOFT.OFFICE.2010.SELECT.EDITION.SP2.VOLUME.X64.DVD.RUSSIAN-KROKOZ\n",
      "---\n",
      "Папок нет\n",
      "---\n",
      "Список файлов ['DVD9_OFFICE_2010_SE_SP2_VOLUME_X64_RU-KROKOZ.iso', 'DVD9_OFFICE_2010_SE_SP2_VOLUME_X64_RU-KROKOZ.iso.nfo', 'KMS.rar']\n",
      "---\n",
      "Файл  D:\\soft\\Microsoft Office 2010 with SP2 VL [SELECT] Russian\\MICROSOFT.OFFICE.2010.SELECT.EDITION.SP2.VOLUME.X64.DVD.RUSSIAN-KROKOZ\\DVD9_OFFICE_2010_SE_SP2_VOLUME_X64_RU-KROKOZ.iso\n",
      "Файл  D:\\soft\\Microsoft Office 2010 with SP2 VL [SELECT] Russian\\MICROSOFT.OFFICE.2010.SELECT.EDITION.SP2.VOLUME.X64.DVD.RUSSIAN-KROKOZ\\DVD9_OFFICE_2010_SE_SP2_VOLUME_X64_RU-KROKOZ.iso.nfo\n",
      "Файл  D:\\soft\\Microsoft Office 2010 with SP2 VL [SELECT] Russian\\MICROSOFT.OFFICE.2010.SELECT.EDITION.SP2.VOLUME.X64.DVD.RUSSIAN-KROKOZ\\KMS.rar\n",
      "===\n",
      "Текущая директория D:\\soft\\Microsoft Office 2010 with SP2 VL [SELECT] Russian\\MICROSOFT.OFFICE.2010.SELECT.EDITION.SP2.VOLUME.X86.DVD.RUSSIAN-KROKOZ\n",
      "---\n",
      "Папок нет\n",
      "---\n",
      "Список файлов ['DVD5_OFFICE_2010_SE_SP2_VOLUME_X86_RU-KROKOZ.iso', 'DVD5_OFFICE_2010_SE_SP2_VOLUME_X86_RU-KROKOZ.iso.nfo', 'KMS.rar']\n",
      "---\n",
      "Файл  D:\\soft\\Microsoft Office 2010 with SP2 VL [SELECT] Russian\\MICROSOFT.OFFICE.2010.SELECT.EDITION.SP2.VOLUME.X86.DVD.RUSSIAN-KROKOZ\\DVD5_OFFICE_2010_SE_SP2_VOLUME_X86_RU-KROKOZ.iso\n",
      "Файл  D:\\soft\\Microsoft Office 2010 with SP2 VL [SELECT] Russian\\MICROSOFT.OFFICE.2010.SELECT.EDITION.SP2.VOLUME.X86.DVD.RUSSIAN-KROKOZ\\DVD5_OFFICE_2010_SE_SP2_VOLUME_X86_RU-KROKOZ.iso.nfo\n",
      "Файл  D:\\soft\\Microsoft Office 2010 with SP2 VL [SELECT] Russian\\MICROSOFT.OFFICE.2010.SELECT.EDITION.SP2.VOLUME.X86.DVD.RUSSIAN-KROKOZ\\KMS.rar\n",
      "===\n"
     ]
    }
   ],
   "source": [
    "import os\n",
    "\n",
    "def walk_desc(path=None):\n",
    "   start_path = path if path is not None else os.getcwd()\n",
    "\n",
    "   for root, dirs, files in os.walk(start_path):\n",
    "       print(\"Текущая директория\", root)\n",
    "       print(\"---\")\n",
    "      \n",
    "       if dirs:\n",
    "           print(\"Список папок\", dirs)\n",
    "       else:\n",
    "           print(\"Папок нет\")\n",
    "       print(\"---\")\n",
    "      \n",
    "       if files:\n",
    "           print(\"Список файлов\", files)\n",
    "       else:\n",
    "           print(\"Файлов нет\")\n",
    "       print(\"---\")\n",
    "      \n",
    "       if files and dirs:\n",
    "           print(\"Все пути:\")\n",
    "       for f in files:\n",
    "           print(\"Файл \", os.path.join(root, f))\n",
    "       for d in dirs:\n",
    "           print(\"Папка \", os.path.join(root, d))\n",
    "       print(\"===\")\n",
    "\n",
    "walk_desc()"
   ]
  },
  {
   "cell_type": "code",
   "execution_count": 22,
   "id": "5959d203-7148-4165-8c50-adea11027c4c",
   "metadata": {},
   "outputs": [],
   "source": [
    "import os\n",
    "\n",
    "os.chdir('C:\\\\Users\\\\user\\\\Documents\\\\First Library')\n",
    "\n",
    "\n",
    "f = open('test.txt', 'w', encoding='utf8')\n",
    " \n",
    "# Запишем в файл строку\n",
    "f.write(\"This is a test string\\n\")\n",
    "f.write(\"This is a new string\\n\")\n",
    "\n",
    "f.close()"
   ]
  },
  {
   "cell_type": "code",
   "execution_count": 30,
   "id": "49a3425d-3d37-4110-8b5e-7e5a44e369b4",
   "metadata": {},
   "outputs": [
    {
     "name": "stdout",
     "output_type": "stream",
     "text": [
      "C:\\Users\\user\\Documents\\First Library\n",
      "<_io.TextIOWrapper name='test.txt' mode='r' encoding='utf8'>\n"
     ]
    }
   ],
   "source": [
    "import os\n",
    "\n",
    "print(os.getcwd())\n",
    "f = open('test.txt', 'r', encoding='utf8')\n",
    "\n"
   ]
  },
  {
   "cell_type": "code",
   "execution_count": 32,
   "id": "c4f1047f-fea6-4b02-a912-8ccf9c5db059",
   "metadata": {},
   "outputs": [
    {
     "name": "stdout",
     "output_type": "stream",
     "text": [
      "[2048]/[1024] -> 1.64\n",
      "[4096]/[2048] -> 1.91\n",
      "[8192]/[4096] -> 2.96\n",
      "[16384]/[8192] -> 2.16\n",
      "[32768]/[16384] -> 2.05\n"
     ]
    }
   ],
   "source": [
    "import timeit\n",
    "\n",
    "def elapsed_time(func, size):\n",
    "    return timeit.timeit(func % size, number=1000)/1000\n",
    "\n",
    "code_append = \"\"\"\n",
    "elements = range(%d) # генератор элементов, которые будут вставляться в список\n",
    "array = [] # список, работу которого тестируем\n",
    "for e in elements:\n",
    "    array.append(e) # добавляем каждый раз в конец\n",
    "\"\"\"\n",
    "\n",
    "for s in range(10,15):\n",
    "    measure_1 = elapsed_time(code_append, 2**s)\n",
    "    measure_2 = elapsed_time(code_append, 2**(s+1))\n",
    "    ratio = measure_2 / measure_1\n",
    "    print(\"[%d]/[%d] -> %.2f\" % (2**(s+1), 2**s, ratio))\n"
   ]
  },
  {
   "cell_type": "code",
   "execution_count": 21,
   "id": "63852934-113c-47b2-9ab4-eb700a07bb70",
   "metadata": {},
   "outputs": [
    {
     "name": "stdout",
     "output_type": "stream",
     "text": [
      "[2048]/[1024] ->  3.01\n",
      "[4096]/[2048] ->  3.61\n",
      "[8192]/[4096] ->  4.66\n",
      "[16384]/[8192] ->  3.84\n",
      "[32768]/[16384] ->  3.97\n"
     ]
    }
   ],
   "source": [
    "import timeit\n",
    "\n",
    "def elapsed_time(func, size):\n",
    "    return timeit.timeit(func % size, number=100)/100\n",
    "\n",
    "code_append = \"\"\"\n",
    "elements = range(%d) # генератор элементов, которые будут вставляться в список\n",
    "array = [] # список, работу которого тестируем\n",
    "for e in elements:\n",
    "    array.insert(0, e) # добавляем каждый раз в начало\n",
    "\"\"\"\n",
    "\n",
    "for s in range(10,15):\n",
    "    measure_1 = elapsed_time(code_append, 2**s)\n",
    "    measure_2 = elapsed_time(code_append, 2**(s+1))\n",
    "    ratio = measure_2 / measure_1\n",
    "    print(\"[%d]/[%d] -> %5.2f\" % (2**(s+1), 2**s, ratio))"
   ]
  },
  {
   "cell_type": "code",
   "execution_count": 34,
   "id": "ead87ae8-ef53-49d4-aab9-2358445d1427",
   "metadata": {},
   "outputs": [
    {
     "name": "stdout",
     "output_type": "stream",
     "text": [
      "hello\n",
      "  0.6\n"
     ]
    }
   ],
   "source": [
    "print(\"hello\")\n",
    "print(\"%5.1f\" % (0.5678))"
   ]
  },
  {
   "cell_type": "code",
   "execution_count": 9,
   "id": "28e01824-c447-4eb7-adbc-e6bdf5b07dba",
   "metadata": {},
   "outputs": [
    {
     "name": "stdout",
     "output_type": "stream",
     "text": [
      "1\n",
      "2\n",
      "3\n",
      "4\n",
      "5\n",
      "None\n"
     ]
    }
   ],
   "source": [
    "def recur(n):\n",
    "    if n == 0:\n",
    "        return\n",
    "    else:\n",
    "        recur(n-1)\n",
    "        print(n)\n",
    "    \n",
    "    \n",
    "\n",
    "print(recur(5))"
   ]
  },
  {
   "cell_type": "code",
   "execution_count": 10,
   "id": "9dd2cbee-b092-4498-92d2-76e368806be0",
   "metadata": {},
   "outputs": [],
   "source": [
    "def par_checker(string):\n",
    "    stack = []  # инициализируем стек\n",
    "    \n",
    "    for s in string:  # читаем строку посимвольно\n",
    "        if s == \"(\":  # если открывающая скобка, \n",
    "            print('appending \"(\"')\n",
    "            stack.append(s)  # добавляем её в стек\n",
    "        elif s == \")\": \n",
    "            # если встретилась закрывающая скобка, то проверяем,\n",
    "            # пуст ли стек и является ли верхний элемент открывающей скобкой\n",
    "            if len(stack) > 0 and stack[-1] == \"(\":\n",
    "                print('popping')\n",
    "                stack.pop()  # удаляем из стека\n",
    "            else:  # иначе завершаем функцию с False\n",
    "                return False\n",
    "    # если стек пустой, то незакрытых скобок не осталось\n",
    "    # значит возвращаем True, иначе - False\n",
    "    return len(stack) == 0 "
   ]
  },
  {
   "cell_type": "code",
   "execution_count": 13,
   "id": "4db8c366-27ce-4297-b794-f42efcc1ea8a",
   "metadata": {},
   "outputs": [
    {
     "name": "stdout",
     "output_type": "stream",
     "text": [
      "appending \"(\"\n",
      "appending \"(\"\n",
      "popping\n",
      "popping\n"
     ]
    },
    {
     "data": {
      "text/plain": [
       "True"
      ]
     },
     "execution_count": 13,
     "metadata": {},
     "output_type": "execute_result"
    }
   ],
   "source": [
    "par_checker('print(len([1,2,3]))')"
   ]
  },
  {
   "cell_type": "code",
   "execution_count": 64,
   "id": "54186f9b-6a11-4a22-828b-d001f0e3d48c",
   "metadata": {},
   "outputs": [
    {
     "name": "stdout",
     "output_type": "stream",
     "text": [
      "[\n",
      "[\n",
      "[\n",
      "Popping [\n",
      "Popping [\n",
      "Popping [\n"
     ]
    },
    {
     "data": {
      "text/plain": [
       "True"
      ]
     },
     "execution_count": 64,
     "metadata": {},
     "output_type": "execute_result"
    }
   ],
   "source": [
    "def par_checker(string):\n",
    "    stack = []  # инициализируем стек    \n",
    "    d = {\n",
    "        ')' : '(',\n",
    "        ']' : '[',\n",
    "        }\n",
    "    \n",
    "    for s in string:  # читаем строку посимвольно\n",
    "        if s == '(' or s == '[':\n",
    "            stack.append(s)\n",
    "        elif s in d.keys():\n",
    "            if len(stack) > 0 and d[s] == stack[-1]:\n",
    "                stack.pop()\n",
    "            else:\n",
    "                return False\n",
    "                \n",
    "    return len(stack) == 0 \n",
    "\n",
    "par_checker('abc[qwe[[asd]]]')"
   ]
  },
  {
   "cell_type": "code",
   "execution_count": 42,
   "id": "eba7f49c-f2b5-43bf-abf1-25af8abab820",
   "metadata": {},
   "outputs": [
    {
     "name": "stdout",
     "output_type": "stream",
     "text": [
      "Yes\n"
     ]
    }
   ],
   "source": [
    "a = {\n",
    "    ')' : '(',\n",
    "    ']' : '['\n",
    "    }\n",
    "\n",
    "if ')' in a.keys():\n",
    "    print('Yes')\n",
    "else:\n",
    "    print('No')\n"
   ]
  },
  {
   "cell_type": "code",
   "execution_count": 44,
   "id": "12d7788c-5275-4787-9790-44af53f78721",
   "metadata": {},
   "outputs": [
    {
     "name": "stdin",
     "output_type": "stream",
     "text": [
      "Определите размер очереди:  1\n",
      "Введите команду: exit\n"
     ]
    },
    {
     "name": "stdout",
     "output_type": "stream",
     "text": [
      "Очередь пустая. Завершение работы\n"
     ]
    }
   ],
   "source": [
    "# Создадим класс Queue — нужная нам очередь\n",
    "class Queue:\n",
    "    # Конструктор нашего класса, в нём происходит нужная инициализация объекта\n",
    "    def __init__(self, max_size):\n",
    "        self.max_size = max_size  # размер очереди\n",
    "        self.task_num = 0  # будем хранить сквозной номер задачи\n",
    "\n",
    "        self.tasks = [0 for _ in range(self.max_size)]  # инициализируем список с нулевыми элементами\n",
    "        self.head = 0  # указатель на начало очереди\n",
    "        self.tail = 0  # указатель на элемент следующий за концом очереди\n",
    "    \n",
    "    def is_empty(self):\n",
    "        return self.head == self.tail and self.tasks[self.head] == 0\n",
    "    \n",
    "    def size(self):\n",
    "        if self.is_empty():   # определяем 0-размерный список\n",
    "            return 0\n",
    "        elif self.head == self.tail:   # определяем полный список\n",
    "            return self.max_size\n",
    "        elif self.head > self.tail:   # определяем неполный список (закольцовано)\n",
    "            return self.tail + self.max_size - self.head\n",
    "        else:   # неполный список (не закольцовано)\n",
    "            return self.tail - self.head\n",
    "    \n",
    "    def add(self):\n",
    "        self.task_num +=1\n",
    "        self.tasks[self.tail] = self.task_num\n",
    "        print(f'Задача №{self.task_num} добавлена')\n",
    "        \n",
    "        self.tail = (self.tail + 1) % self.max_size\n",
    "        \n",
    "    def show(self):\n",
    "        print(f'Задача №{self.tasks[self.head]} в приоритете')\n",
    "        \n",
    "    def do(self):\n",
    "        print(f'Задача №{self.tasks[self.head]} выполнена')\n",
    "        self.tasks[self.head] = 0\n",
    "        self.head = (self.head + 1) % self.max_size\n",
    "        \n",
    "# Используем класс\n",
    "size = int(input(\"Определите размер очереди: \"))\n",
    "q = Queue(size)\n",
    "\n",
    "while True:\n",
    "    cmd = input(\"Введите команду:\")        \n",
    "    if cmd == \"empty\": \n",
    "        if q.is_empty():\n",
    "            print(\"Очередь пустая\")\n",
    "        else:\n",
    "            print(\"В очереди есть задачи\")\n",
    "    elif cmd == \"size\":\n",
    "        print(\"Количество задач в очереди:\", q.size())\n",
    "    elif cmd == \"add\": \n",
    "        if q.size() != q.max_size:\n",
    "            q.add()\n",
    "        else:\n",
    "            print(\"Очередь переполнена\")\n",
    "    elif cmd == \"show\": \n",
    "        if q.is_empty():\n",
    "            print(\"Очередь пустая\")\n",
    "        else:\n",
    "            q.show()\n",
    "    elif cmd == \"do\": \n",
    "        if q.is_empty():\n",
    "            print(\"Очередь пустая\")\n",
    "        else:\n",
    "            q.do()\n",
    "    elif cmd == \"exit\": \n",
    "        for _ in range(q.size()):\n",
    "            q.do()\n",
    "        print(\"Очередь пустая. Завершение работы\")\n",
    "        break\n",
    "    else:\n",
    "        print(\"Введена неверная команда\")"
   ]
  },
  {
   "cell_type": "code",
   "execution_count": 79,
   "id": "e5e4335a-1e68-4bcf-92b8-6340872dc749",
   "metadata": {},
   "outputs": [
    {
     "name": "stdout",
     "output_type": "stream",
     "text": [
      "D = {'Адмиралтейская': 100, 'Садовая': 100, 'Сенная площадь': 100, 'Спасская': 100, 'Звенигородская': 100, 'Пушкинская': 100, 'Владимирская': 100, 'Достоевская': 100}\n",
      "U = {'Адмиралтейская': False, 'Садовая': False, 'Сенная площадь': False, 'Спасская': False, 'Звенигородская': False, 'Пушкинская': False, 'Владимирская': False, 'Достоевская': False}\n",
      "P = {'Адмиралтейская': None, 'Садовая': None, 'Сенная площадь': None, 'Спасская': None, 'Звенигородская': None, 'Пушкинская': None, 'Владимирская': None, 'Достоевская': None}\n",
      "min_k = Адмиралтейская and iterator is 0\n",
      "min_k = Садовая and iterator is 1\n",
      "min_k = Спасская and iterator is 2\n",
      "min_k = Сенная площадь and iterator is 3\n",
      "min_k = Звенигородская and iterator is 4\n",
      "min_k = Пушкинская and iterator is 5\n",
      "min_k = Достоевская and iterator is 6\n",
      "min_k = Владимирская and iterator is 7\n",
      "P after for-loop = {'Адмиралтейская': None, 'Садовая': 'Адмиралтейская', 'Сенная площадь': 'Садовая', 'Спасская': 'Садовая', 'Звенигородская': 'Садовая', 'Пушкинская': 'Звенигородская', 'Владимирская': 'Пушкинская', 'Достоевская': 'Спасская'}\n",
      "Адмиралтейская\n",
      "Садовая\n",
      "Звенигородская\n",
      "Пушкинская\n",
      "Владимирская\n"
     ]
    }
   ],
   "source": [
    "G = {\n",
    "    \"Адмиралтейская\": {\n",
    "        \"Садовая\": 4},\n",
    "    \"Садовая\": {\n",
    "        \"Сенная площадь\": 4,\n",
    "        \"Спасская\": 3,\n",
    "        \"Адмиралтейская\": 4,\n",
    "        \"Звенигородская\": 5},\n",
    "    \"Сенная площадь\": {\n",
    "        \"Садовая\": 4,\n",
    "        \"Спасская\": 4},\n",
    "    \"Спасская\": {\n",
    "        \"Садовая\": 3,\n",
    "        \"Сенная площадь\": 4,\n",
    "        \"Достоевская\": 6},\n",
    "    \"Звенигородская\": {\n",
    "        \"Пушкинская\": 3,\n",
    "        \"Садовая\": 5},\n",
    "    \"Пушкинская\": {\n",
    "        \"Звенигородская\": 3,\n",
    "        \"Владимирская\": 4},\n",
    "    \"Владимирская\": {\n",
    "        \"Достоевская\": 3,\n",
    "        \"Пушкинская\": 4},\n",
    "    \"Достоевская\": {\n",
    "        \"Владимирская\": 3,\n",
    "        \"Спасская\": 6}\n",
    "}\n",
    "\n",
    "D = {k : 100 for k in G.keys()}  # расстояния\n",
    "print(f'D = {D}')\n",
    "start_k = 'Адмиралтейская'  # стартовая вершина\n",
    "D[start_k] = 0  # расстояние от неё до самой себя равно нулю\n",
    "U = {k : False for k in G.keys()}  # флаги просмотра вершин\n",
    "print(f'U = {U}')\n",
    "P = {k : None for k in G.keys()}  # предки\n",
    "print(f'P = {P}')\n",
    "\n",
    "for _ in range(len(D)):\n",
    "    # выбираем среди непросмотренных наименьшее по расстоянию\n",
    "    min_k = min([k for k in U.keys() if not U[k]], key = lambda x: D[x])\n",
    "    print(f'min_k = {min_k} and iterator is {_}')\n",
    "\n",
    "    for v in G[min_k].keys():  # проходимся по всем смежным вершинам\n",
    "         if D[v] > D[min_k] + G[min_k][v]:  # если расстояние от текущей вершины меньше\n",
    "            D[v] = D[min_k] + G[min_k][v]  # то фиксируем его\n",
    "            P[v] = min_k  # и записываем как предок\n",
    "    U[min_k] = True  # просмотренную вершину помечаем\n",
    "\n",
    "print(f'P after for-loop = {P}')\n",
    "    \n",
    "pointer = \"Владимирская\" # куда должны прийти\n",
    "path = [] # список с вершинами пути\n",
    "while pointer is not None: # перемещаемся, пока не придём в стартовую точку\n",
    "   path.append(pointer)\n",
    "   pointer = P[pointer]\n",
    "\n",
    "path.reverse() # разворачиваем путь\n",
    "for v in path:\n",
    "    print(v)"
   ]
  },
  {
   "cell_type": "code",
   "execution_count": 50,
   "id": "4aef2c89-e94b-4768-a567-a2811b875e82",
   "metadata": {},
   "outputs": [
    {
     "data": {
      "text/plain": [
       "{'Адмиралтейская': 0,\n",
       " 'Садовая': 4,\n",
       " 'Сенная площадь': 8,\n",
       " 'Спасская': 7,\n",
       " 'Звенигородская': 9,\n",
       " 'Пушкинская': 12,\n",
       " 'Владимирская': 16,\n",
       " 'Достоевская': 13}"
      ]
     },
     "execution_count": 50,
     "metadata": {},
     "output_type": "execute_result"
    }
   ],
   "source": [
    "D"
   ]
  },
  {
   "cell_type": "code",
   "execution_count": 56,
   "id": "08e9f251-75e2-4460-8dd5-883346f6f642",
   "metadata": {},
   "outputs": [],
   "source": [
    "class Node:  # класс элемента\n",
    "    def __init__(self, value = None, next_ = None):  # инициализируем\n",
    "        self.value = value  # значением\n",
    "        self.next = next_  # и ссылкой на следующий элемент\n",
    "\n",
    "    def __str__(self):\n",
    "        return \"Node value = \" + str(self.value)\n",
    "\n",
    "\n",
    "class LinkedList:  # класс списка\n",
    "    def __init__(self):  # инициализируем пустым\n",
    "        self.first = None\n",
    "        self.last = None\n",
    "        \n",
    "    def clear(self):  # очищаем список\n",
    "        self.__init__()\n",
    "    \n",
    "    def __str__(self):  # функция печати \n",
    "        R = ''\n",
    "        \n",
    "        pointer = self.first  # берём первый указатель\n",
    "        while pointer is not None:  # пока указатель не станет None\n",
    "            R += str(pointer.value)  # добавляем значение в строку\n",
    "            pointer = pointer.next  # идём дальше по указателю\n",
    "            if pointer is not None:  # если он существует, добавляем пробел\n",
    "                R += ' '\n",
    "        return R\n",
    "    \n",
    "    def pushleft(self, value):\n",
    "        if self.first is None:\n",
    "            self.first = Node(value)\n",
    "            self.last = self.first\n",
    "        else:\n",
    "            new_node = Node(value, self.first)\n",
    "            self.first = new_node\n",
    "        \n",
    "    def pushright(self, value):\n",
    "        if self.first is None:\n",
    "            self.first = Node(value)\n",
    "            self.last = self.first\n",
    "        else:\n",
    "            new_node = Node(value)\n",
    "            self.last.next = new_node    \n",
    "            self.last = new_node\n",
    "        \n",
    "    def popleft(self):\n",
    "        if self.first is None:  # если список пустой, возвращаем None\n",
    "            return None\n",
    "        elif self.first == self.last:  # если список содержит только один элемент\n",
    "            node = self.first  # сохраняем его\n",
    "            self.__init__()  # очищаем\n",
    "            return node  # и возвращаем сохранённый элемент\n",
    "        else:\n",
    "            node = self.first  # сохраняем первый элемент\n",
    "            self.first = self.first.next  # меняем указатель на первый элемент\n",
    "            return node  # возвращаем сохранённый\n",
    "    \n",
    "    def popright(self): \n",
    "        if self.first is None:  # если список пустой, возвращаем None\n",
    "            return None\n",
    "        elif self.first == self.last: #  если список содержит только один элемент\n",
    "            node = self.first  # сохраняем его\n",
    "            self.__init__()  # очищаем\n",
    "            return node #  и возвращаем сохраненный элемент\n",
    "        else:\n",
    "            node = self.last  # сохраняем последний\n",
    "            pointer = self.first  # создаём указатель\n",
    "            while pointer.next is not node:  # пока не найдём предпоследний\n",
    "                pointer = pointer.next\n",
    "            pointer.next = None  # обнуляем указатели, чтобы\n",
    "            self.last = pointer  # предпоследний стал последним\n",
    "            return node  # возвращаем сохранённый\n",
    "        \n",
    "    def __iter__(self):  # объявляем класс как итератор\n",
    "        self.current = self.first  # в текущий элемент помещаем первый\n",
    "        return self  # возвращаем итератор\n",
    "\n",
    "    def __next__(self):  # метод перехода\n",
    "        if self.current is None:  # если текущий стал последним\n",
    "            raise StopIteration  # вызываем исключение\n",
    "        else:\n",
    "            node = self.current  # сохраняем текущий элемент\n",
    "            self.current = self.current.next  # совершаем переход\n",
    "            return node  # и возвращаем сохранённый\n",
    "        \n",
    "    def __len__(self):\n",
    "        count = 0\n",
    "        pointer = self.first\n",
    "        while pointer is not None:\n",
    "            count += 1\n",
    "            pointer = pointer.next\n",
    "        return count"
   ]
  },
  {
   "cell_type": "code",
   "execution_count": 57,
   "id": "d62d9bfd-42eb-45e0-a63b-d582828691f5",
   "metadata": {},
   "outputs": [
    {
     "name": "stdout",
     "output_type": "stream",
     "text": [
      "2 1 5\n"
     ]
    }
   ],
   "source": [
    "LL = LinkedList()\n",
    "\n",
    "LL.pushright(1)\n",
    "LL.pushleft(2)\n",
    "LL.pushright(3)\n",
    "LL.popright()\n",
    "LL.pushleft(4)\n",
    "LL.pushright(5)\n",
    "LL.popleft()\n",
    "\n",
    "print(LL)"
   ]
  },
  {
   "cell_type": "code",
   "execution_count": 58,
   "id": "21b0571c-ba0b-4880-80a8-7a1406e5aaf0",
   "metadata": {},
   "outputs": [
    {
     "data": {
      "text/plain": [
       "3"
      ]
     },
     "execution_count": 58,
     "metadata": {},
     "output_type": "execute_result"
    }
   ],
   "source": [
    "LL.__len__()"
   ]
  },
  {
   "cell_type": "code",
   "execution_count": 67,
   "id": "e7472fbd-4f26-476a-a38b-89f41735805e",
   "metadata": {},
   "outputs": [
    {
     "name": "stdout",
     "output_type": "stream",
     "text": [
      "158\n",
      "40320\n"
     ]
    }
   ],
   "source": [
    "from math import factorial\n",
    "\n",
    "print(len(str(factorial(100))))\n",
    "\n",
    "print(factorial(8))"
   ]
  },
  {
   "cell_type": "code",
   "execution_count": 64,
   "id": "70dc354b-2d86-41df-b504-b4baa2efb741",
   "metadata": {},
   "outputs": [
    {
     "name": "stdout",
     "output_type": "stream",
     "text": [
      "[1, 2, 3, 4, 5, 6, 7, 8, 9]\n",
      "5\n"
     ]
    }
   ],
   "source": [
    "# Сортировка выбором\n",
    "\n",
    "array = [2, 3, 1, 4, 6, 5, 9, 8, 7]\n",
    "n = 0\n",
    "for i in range(len(array)): # проходим по всему массиву\n",
    "\n",
    "        idx_min = i # сохраняем индекс предположительно минимального элемента\n",
    "        for j in range(i+1, len(array)):\n",
    "                if array[j] < array[idx_min]:\n",
    "                        idx_min = j\n",
    "                        n += 1\n",
    "        if i != idx_min: # если индекс не совпадает с минимальным, меняем\n",
    "                array[i], array[idx_min] = array[idx_min], array[i]\n",
    "\n",
    "print(array)\n",
    "print(n)"
   ]
  },
  {
   "cell_type": "code",
   "execution_count": 70,
   "id": "c743f4b7-7312-4786-bca7-2affcf25b433",
   "metadata": {},
   "outputs": [
    {
     "name": "stdout",
     "output_type": "stream",
     "text": [
      "13\n"
     ]
    }
   ],
   "source": [
    "count = 0\n",
    "  \n",
    "array = [2, 3, 1, 4, 6, 5, 9, 8, 7]\n",
    "for i in range(1, len(array)):\n",
    "    x = array[i]\n",
    "    idx = i\n",
    "    while idx > 0:\n",
    "        count += 1\n",
    "        if (array[idx-1] <= x):\n",
    "            break\n",
    "        array[idx] = array[idx-1]\n",
    "        idx -= 1\n",
    "    array[idx] = x\n",
    "  \n",
    "print(count)"
   ]
  },
  {
   "cell_type": "code",
   "execution_count": 74,
   "id": "3a46e074-76b2-4453-a4d7-246e70582e32",
   "metadata": {},
   "outputs": [
    {
     "ename": "TypeError",
     "evalue": "'<' not supported between instances of 'int' and 'list'",
     "output_type": "error",
     "traceback": [
      "\u001b[1;31m---------------------------------------------------------------------------\u001b[0m",
      "\u001b[1;31mTypeError\u001b[0m                                 Traceback (most recent call last)",
      "Cell \u001b[1;32mIn [74], line 1\u001b[0m\n\u001b[1;32m----> 1\u001b[0m \u001b[38;5;28;43mmin\u001b[39;49m\u001b[43m(\u001b[49m\u001b[43m[\u001b[49m\u001b[38;5;241;43m15\u001b[39;49m\u001b[43m,\u001b[49m\u001b[38;5;241;43m4\u001b[39;49m\u001b[43m,\u001b[49m\u001b[38;5;241;43m5\u001b[39;49m\u001b[43m,\u001b[49m\u001b[38;5;241;43m10\u001b[39;49m\u001b[43m]\u001b[49m\u001b[43m,\u001b[49m\u001b[43m \u001b[49m\u001b[38;5;241;43m2\u001b[39;49m\u001b[43m)\u001b[49m\n",
      "\u001b[1;31mTypeError\u001b[0m: '<' not supported between instances of 'int' and 'list'"
     ]
    }
   ],
   "source": [
    "min([15,4,5,10], 2)"
   ]
  }
 ],
 "metadata": {
  "kernelspec": {
   "display_name": "Python 3 (ipykernel)",
   "language": "python",
   "name": "python3"
  },
  "language_info": {
   "codemirror_mode": {
    "name": "ipython",
    "version": 3
   },
   "file_extension": ".py",
   "mimetype": "text/x-python",
   "name": "python",
   "nbconvert_exporter": "python",
   "pygments_lexer": "ipython3",
   "version": "3.8.10"
  }
 },
 "nbformat": 4,
 "nbformat_minor": 5
}
