{
 "cells": [
  {
   "cell_type": "code",
   "execution_count": 1,
   "id": "13467370-b603-408f-9f9f-ab5109b1fb14",
   "metadata": {},
   "outputs": [
    {
     "name": "stdout",
     "output_type": "stream",
     "text": [
      "C:\\Users\\user\\Documents\\GitHub\\MyFirstModule\n",
      "C:\\Users\\user\\Documents\\GitHub\n",
      "C:\\Users\\user\\Documents\\GitHub\\MyFirstModule\n"
     ]
    }
   ],
   "source": [
    "import os\n",
    "\n",
    "start_path = os.getcwd()\n",
    "print(start_path)\n",
    "os.chdir(\"..\")\n",
    "print(os.getcwd())\n",
    "os.chdir(start_path)\n",
    "print(start_path)"
   ]
  },
  {
   "cell_type": "code",
   "execution_count": 2,
   "id": "ca00e308-bbc8-4d69-a651-56dfbe984c48",
   "metadata": {},
   "outputs": [
    {
     "name": "stdout",
     "output_type": "stream",
     "text": [
      "['.idea', '.ipynb_checkpoints', 'AreaCalc.py', 'main.py', 'UI.py', 'Untitled.ipynb', 'venv', '__pycache__']\n"
     ]
    }
   ],
   "source": [
    "import os\n",
    "print(os.listdir())"
   ]
  },
  {
   "cell_type": "code",
   "execution_count": 2,
   "id": "acfb42d5-1f08-43ad-8f12-cc229b5eb8a6",
   "metadata": {},
   "outputs": [
    {
     "data": {
      "text/plain": [
       "'12'"
      ]
     },
     "execution_count": 2,
     "metadata": {},
     "output_type": "execute_result"
    }
   ],
   "source": [
    "from time import gmtime, strftime\n",
    "\n",
    "strftime(\"%m\", gmtime())\n"
   ]
  },
  {
   "cell_type": "code",
   "execution_count": 15,
   "id": "0ddc2ef1-0190-4080-b510-c22b988bcffb",
   "metadata": {},
   "outputs": [
    {
     "name": "stdin",
     "output_type": "stream",
     "text": [
      "insert path C:\\Users\\user\\Documents\\First Library\n"
     ]
    },
    {
     "name": "stdout",
     "output_type": "stream",
     "text": [
      "['.ipynb_checkpoints', 'function.py', 'python.py']\n"
     ]
    }
   ],
   "source": [
    "import os\n",
    "\n",
    "def contents():\n",
    "    path = input('insert path')\n",
    "    os.chdir(path)\n",
    "    print(os.listdir())\n",
    "\n",
    "    \n",
    "contents()\n",
    "    "
   ]
  },
  {
   "cell_type": "code",
   "execution_count": 6,
   "id": "3a10a276-57e7-4c82-885c-636389473b61",
   "metadata": {},
   "outputs": [
    {
     "name": "stdout",
     "output_type": "stream",
     "text": [
      "Текущая директория D:\\\n",
      "---\n",
      "Список папок ['$RECYCLE.BIN', 'PSAutoRecover', 'Scan', 'soft', 'System Volume Information']\n",
      "---\n",
      "Список файлов ['VTS_01_3 - Жанар.VOB']\n",
      "---\n",
      "Все пути:\n",
      "Файл  D:\\VTS_01_3 - Жанар.VOB\n",
      "Папка  D:\\$RECYCLE.BIN\n",
      "Папка  D:\\PSAutoRecover\n",
      "Папка  D:\\Scan\n",
      "Папка  D:\\soft\n",
      "Папка  D:\\System Volume Information\n",
      "===\n",
      "Текущая директория D:\\$RECYCLE.BIN\n",
      "---\n",
      "Список папок ['S-1-5-21-1851348839-324532317-1965354558-1000', 'S-1-5-21-1851348839-324532317-1965354558-1001']\n",
      "---\n",
      "Файлов нет\n",
      "---\n",
      "Папка  D:\\$RECYCLE.BIN\\S-1-5-21-1851348839-324532317-1965354558-1000\n",
      "Папка  D:\\$RECYCLE.BIN\\S-1-5-21-1851348839-324532317-1965354558-1001\n",
      "===\n",
      "Текущая директория D:\\$RECYCLE.BIN\\S-1-5-21-1851348839-324532317-1965354558-1000\n",
      "---\n",
      "Папок нет\n",
      "---\n",
      "Список файлов ['desktop.ini']\n",
      "---\n",
      "Файл  D:\\$RECYCLE.BIN\\S-1-5-21-1851348839-324532317-1965354558-1000\\desktop.ini\n",
      "===\n",
      "Текущая директория D:\\PSAutoRecover\n",
      "---\n",
      "Список папок ['user']\n",
      "---\n",
      "Файлов нет\n",
      "---\n",
      "Папка  D:\\PSAutoRecover\\user\n",
      "===\n",
      "Текущая директория D:\\PSAutoRecover\\user\n",
      "---\n",
      "Папок нет\n",
      "---\n",
      "Файлов нет\n",
      "---\n",
      "===\n",
      "Текущая директория D:\\Scan\n",
      "---\n",
      "Папок нет\n",
      "---\n",
      "Список файлов ['Xerox Scan_31012021131057.PDF']\n",
      "---\n",
      "Файл  D:\\Scan\\Xerox Scan_31012021131057.PDF\n",
      "===\n",
      "Текущая директория D:\\soft\n",
      "---\n",
      "Список папок ['Microsoft Office 2010 with SP2 VL [SELECT] Russian']\n",
      "---\n",
      "Список файлов ['Adobe Premiere Pro CC 2020 14.0.0.571 RePack by KpoJIuK.exe', 'AnyDesk.exe']\n",
      "---\n",
      "Все пути:\n",
      "Файл  D:\\soft\\Adobe Premiere Pro CC 2020 14.0.0.571 RePack by KpoJIuK.exe\n",
      "Файл  D:\\soft\\AnyDesk.exe\n",
      "Папка  D:\\soft\\Microsoft Office 2010 with SP2 VL [SELECT] Russian\n",
      "===\n",
      "Текущая директория D:\\soft\\Microsoft Office 2010 with SP2 VL [SELECT] Russian\n",
      "---\n",
      "Список папок ['MICROSOFT.OFFICE.2010.SELECT.EDITION.SP2.VOLUME.X64.DVD.RUSSIAN-KROKOZ', 'MICROSOFT.OFFICE.2010.SELECT.EDITION.SP2.VOLUME.X86.DVD.RUSSIAN-KROKOZ']\n",
      "---\n",
      "Файлов нет\n",
      "---\n",
      "Папка  D:\\soft\\Microsoft Office 2010 with SP2 VL [SELECT] Russian\\MICROSOFT.OFFICE.2010.SELECT.EDITION.SP2.VOLUME.X64.DVD.RUSSIAN-KROKOZ\n",
      "Папка  D:\\soft\\Microsoft Office 2010 with SP2 VL [SELECT] Russian\\MICROSOFT.OFFICE.2010.SELECT.EDITION.SP2.VOLUME.X86.DVD.RUSSIAN-KROKOZ\n",
      "===\n",
      "Текущая директория D:\\soft\\Microsoft Office 2010 with SP2 VL [SELECT] Russian\\MICROSOFT.OFFICE.2010.SELECT.EDITION.SP2.VOLUME.X64.DVD.RUSSIAN-KROKOZ\n",
      "---\n",
      "Папок нет\n",
      "---\n",
      "Список файлов ['DVD9_OFFICE_2010_SE_SP2_VOLUME_X64_RU-KROKOZ.iso', 'DVD9_OFFICE_2010_SE_SP2_VOLUME_X64_RU-KROKOZ.iso.nfo', 'KMS.rar']\n",
      "---\n",
      "Файл  D:\\soft\\Microsoft Office 2010 with SP2 VL [SELECT] Russian\\MICROSOFT.OFFICE.2010.SELECT.EDITION.SP2.VOLUME.X64.DVD.RUSSIAN-KROKOZ\\DVD9_OFFICE_2010_SE_SP2_VOLUME_X64_RU-KROKOZ.iso\n",
      "Файл  D:\\soft\\Microsoft Office 2010 with SP2 VL [SELECT] Russian\\MICROSOFT.OFFICE.2010.SELECT.EDITION.SP2.VOLUME.X64.DVD.RUSSIAN-KROKOZ\\DVD9_OFFICE_2010_SE_SP2_VOLUME_X64_RU-KROKOZ.iso.nfo\n",
      "Файл  D:\\soft\\Microsoft Office 2010 with SP2 VL [SELECT] Russian\\MICROSOFT.OFFICE.2010.SELECT.EDITION.SP2.VOLUME.X64.DVD.RUSSIAN-KROKOZ\\KMS.rar\n",
      "===\n",
      "Текущая директория D:\\soft\\Microsoft Office 2010 with SP2 VL [SELECT] Russian\\MICROSOFT.OFFICE.2010.SELECT.EDITION.SP2.VOLUME.X86.DVD.RUSSIAN-KROKOZ\n",
      "---\n",
      "Папок нет\n",
      "---\n",
      "Список файлов ['DVD5_OFFICE_2010_SE_SP2_VOLUME_X86_RU-KROKOZ.iso', 'DVD5_OFFICE_2010_SE_SP2_VOLUME_X86_RU-KROKOZ.iso.nfo', 'KMS.rar']\n",
      "---\n",
      "Файл  D:\\soft\\Microsoft Office 2010 with SP2 VL [SELECT] Russian\\MICROSOFT.OFFICE.2010.SELECT.EDITION.SP2.VOLUME.X86.DVD.RUSSIAN-KROKOZ\\DVD5_OFFICE_2010_SE_SP2_VOLUME_X86_RU-KROKOZ.iso\n",
      "Файл  D:\\soft\\Microsoft Office 2010 with SP2 VL [SELECT] Russian\\MICROSOFT.OFFICE.2010.SELECT.EDITION.SP2.VOLUME.X86.DVD.RUSSIAN-KROKOZ\\DVD5_OFFICE_2010_SE_SP2_VOLUME_X86_RU-KROKOZ.iso.nfo\n",
      "Файл  D:\\soft\\Microsoft Office 2010 with SP2 VL [SELECT] Russian\\MICROSOFT.OFFICE.2010.SELECT.EDITION.SP2.VOLUME.X86.DVD.RUSSIAN-KROKOZ\\KMS.rar\n",
      "===\n"
     ]
    }
   ],
   "source": [
    "import os\n",
    "\n",
    "def walk_desc(path=None):\n",
    "   start_path = path if path is not None else os.getcwd()\n",
    "\n",
    "   for root, dirs, files in os.walk(start_path):\n",
    "       print(\"Текущая директория\", root)\n",
    "       print(\"---\")\n",
    "      \n",
    "       if dirs:\n",
    "           print(\"Список папок\", dirs)\n",
    "       else:\n",
    "           print(\"Папок нет\")\n",
    "       print(\"---\")\n",
    "      \n",
    "       if files:\n",
    "           print(\"Список файлов\", files)\n",
    "       else:\n",
    "           print(\"Файлов нет\")\n",
    "       print(\"---\")\n",
    "      \n",
    "       if files and dirs:\n",
    "           print(\"Все пути:\")\n",
    "       for f in files:\n",
    "           print(\"Файл \", os.path.join(root, f))\n",
    "       for d in dirs:\n",
    "           print(\"Папка \", os.path.join(root, d))\n",
    "       print(\"===\")\n",
    "\n",
    "walk_desc()"
   ]
  },
  {
   "cell_type": "code",
   "execution_count": 22,
   "id": "5959d203-7148-4165-8c50-adea11027c4c",
   "metadata": {},
   "outputs": [],
   "source": [
    "import os\n",
    "\n",
    "os.chdir('C:\\\\Users\\\\user\\\\Documents\\\\First Library')\n",
    "\n",
    "\n",
    "f = open('test.txt', 'w', encoding='utf8')\n",
    " \n",
    "# Запишем в файл строку\n",
    "f.write(\"This is a test string\\n\")\n",
    "f.write(\"This is a new string\\n\")\n",
    "\n",
    "f.close()"
   ]
  },
  {
   "cell_type": "code",
   "execution_count": 30,
   "id": "49a3425d-3d37-4110-8b5e-7e5a44e369b4",
   "metadata": {},
   "outputs": [
    {
     "name": "stdout",
     "output_type": "stream",
     "text": [
      "C:\\Users\\user\\Documents\\First Library\n",
      "<_io.TextIOWrapper name='test.txt' mode='r' encoding='utf8'>\n"
     ]
    }
   ],
   "source": [
    "import os\n",
    "\n",
    "print(os.getcwd())\n",
    "f = open('test.txt', 'r', encoding='utf8')\n",
    "\n"
   ]
  },
  {
   "cell_type": "code",
   "execution_count": 32,
   "id": "c4f1047f-fea6-4b02-a912-8ccf9c5db059",
   "metadata": {},
   "outputs": [
    {
     "name": "stdout",
     "output_type": "stream",
     "text": [
      "[2048]/[1024] -> 1.64\n",
      "[4096]/[2048] -> 1.91\n",
      "[8192]/[4096] -> 2.96\n",
      "[16384]/[8192] -> 2.16\n",
      "[32768]/[16384] -> 2.05\n"
     ]
    }
   ],
   "source": [
    "import timeit\n",
    "\n",
    "def elapsed_time(func, size):\n",
    "    return timeit.timeit(func % size, number=1000)/1000\n",
    "\n",
    "code_append = \"\"\"\n",
    "elements = range(%d) # генератор элементов, которые будут вставляться в список\n",
    "array = [] # список, работу которого тестируем\n",
    "for e in elements:\n",
    "    array.append(e) # добавляем каждый раз в конец\n",
    "\"\"\"\n",
    "\n",
    "for s in range(10,15):\n",
    "    measure_1 = elapsed_time(code_append, 2**s)\n",
    "    measure_2 = elapsed_time(code_append, 2**(s+1))\n",
    "    ratio = measure_2 / measure_1\n",
    "    print(\"[%d]/[%d] -> %.2f\" % (2**(s+1), 2**s, ratio))\n"
   ]
  },
  {
   "cell_type": "code",
   "execution_count": 21,
   "id": "63852934-113c-47b2-9ab4-eb700a07bb70",
   "metadata": {},
   "outputs": [
    {
     "name": "stdout",
     "output_type": "stream",
     "text": [
      "[2048]/[1024] ->  3.01\n",
      "[4096]/[2048] ->  3.61\n",
      "[8192]/[4096] ->  4.66\n",
      "[16384]/[8192] ->  3.84\n",
      "[32768]/[16384] ->  3.97\n"
     ]
    }
   ],
   "source": [
    "import timeit\n",
    "\n",
    "def elapsed_time(func, size):\n",
    "    return timeit.timeit(func % size, number=100)/100\n",
    "\n",
    "code_append = \"\"\"\n",
    "elements = range(%d) # генератор элементов, которые будут вставляться в список\n",
    "array = [] # список, работу которого тестируем\n",
    "for e in elements:\n",
    "    array.insert(0, e) # добавляем каждый раз в начало\n",
    "\"\"\"\n",
    "\n",
    "for s in range(10,15):\n",
    "    measure_1 = elapsed_time(code_append, 2**s)\n",
    "    measure_2 = elapsed_time(code_append, 2**(s+1))\n",
    "    ratio = measure_2 / measure_1\n",
    "    print(\"[%d]/[%d] -> %5.2f\" % (2**(s+1), 2**s, ratio))"
   ]
  },
  {
   "cell_type": "code",
   "execution_count": 34,
   "id": "ead87ae8-ef53-49d4-aab9-2358445d1427",
   "metadata": {},
   "outputs": [
    {
     "name": "stdout",
     "output_type": "stream",
     "text": [
      "hello\n",
      "  0.6\n"
     ]
    }
   ],
   "source": [
    "print(\"hello\")\n",
    "print(\"%5.1f\" % (0.5678))"
   ]
  },
  {
   "cell_type": "code",
   "execution_count": 6,
   "id": "28e01824-c447-4eb7-adbc-e6bdf5b07dba",
   "metadata": {},
   "outputs": [
    {
     "name": "stdout",
     "output_type": "stream",
     "text": [
      "1\n",
      "2\n",
      "3\n",
      "4\n",
      "5\n",
      "6\n",
      "7\n",
      "8\n",
      "9\n",
      "10\n",
      "None\n"
     ]
    }
   ],
   "source": [
    "def recur(n):\n",
    "    if n == 0:\n",
    "        return\n",
    "    else:\n",
    "        recur(n-1)\n",
    "        print(n)\n",
    "    \n",
    "    \n",
    "\n",
    "print(recur(10))"
   ]
  },
  {
   "cell_type": "code",
   "execution_count": 10,
   "id": "9dd2cbee-b092-4498-92d2-76e368806be0",
   "metadata": {},
   "outputs": [],
   "source": [
    "def par_checker(string):\n",
    "    stack = []  # инициализируем стек\n",
    "    \n",
    "    for s in string:  # читаем строку посимвольно\n",
    "        if s == \"(\":  # если открывающая скобка, \n",
    "            print('appending \"(\"')\n",
    "            stack.append(s)  # добавляем её в стек\n",
    "        elif s == \")\": \n",
    "            # если встретилась закрывающая скобка, то проверяем,\n",
    "            # пуст ли стек и является ли верхний элемент открывающей скобкой\n",
    "            if len(stack) > 0 and stack[-1] == \"(\":\n",
    "                print('popping')\n",
    "                stack.pop()  # удаляем из стека\n",
    "            else:  # иначе завершаем функцию с False\n",
    "                return False\n",
    "    # если стек пустой, то незакрытых скобок не осталось\n",
    "    # значит возвращаем True, иначе - False\n",
    "    return len(stack) == 0 "
   ]
  },
  {
   "cell_type": "code",
   "execution_count": 13,
   "id": "4db8c366-27ce-4297-b794-f42efcc1ea8a",
   "metadata": {},
   "outputs": [
    {
     "name": "stdout",
     "output_type": "stream",
     "text": [
      "appending \"(\"\n",
      "appending \"(\"\n",
      "popping\n",
      "popping\n"
     ]
    },
    {
     "data": {
      "text/plain": [
       "True"
      ]
     },
     "execution_count": 13,
     "metadata": {},
     "output_type": "execute_result"
    }
   ],
   "source": [
    "par_checker('print(len([1,2,3]))')"
   ]
  },
  {
   "cell_type": "code",
   "execution_count": 64,
   "id": "54186f9b-6a11-4a22-828b-d001f0e3d48c",
   "metadata": {},
   "outputs": [
    {
     "name": "stdout",
     "output_type": "stream",
     "text": [
      "[\n",
      "[\n",
      "[\n",
      "Popping [\n",
      "Popping [\n",
      "Popping [\n"
     ]
    },
    {
     "data": {
      "text/plain": [
       "True"
      ]
     },
     "execution_count": 64,
     "metadata": {},
     "output_type": "execute_result"
    }
   ],
   "source": [
    "def par_checker(string):\n",
    "    stack = []  # инициализируем стек    \n",
    "    d = {\n",
    "        ')' : '(',\n",
    "        ']' : '[',\n",
    "        }\n",
    "    \n",
    "    for s in string:  # читаем строку посимвольно\n",
    "        if s == '(' or s == '[':\n",
    "            stack.append(s)\n",
    "        elif s in d.keys():\n",
    "            if len(stack) > 0 and d[s] == stack[-1]:\n",
    "                stack.pop()\n",
    "            else:\n",
    "                return False\n",
    "                \n",
    "    return len(stack) == 0 \n",
    "\n",
    "par_checker('abc[qwe[[asd]]]')"
   ]
  },
  {
   "cell_type": "code",
   "execution_count": 42,
   "id": "eba7f49c-f2b5-43bf-abf1-25af8abab820",
   "metadata": {},
   "outputs": [
    {
     "name": "stdout",
     "output_type": "stream",
     "text": [
      "Yes\n"
     ]
    }
   ],
   "source": [
    "a = {\n",
    "    ')' : '(',\n",
    "    ']' : '['\n",
    "    }\n",
    "\n",
    "if ')' in a.keys():\n",
    "    print('Yes')\n",
    "else:\n",
    "    print('No')\n"
   ]
  },
  {
   "cell_type": "code",
   "execution_count": 43,
   "id": "12d7788c-5275-4787-9790-44af53f78721",
   "metadata": {},
   "outputs": [
    {
     "ename": "IndexError",
     "evalue": "list index out of range",
     "output_type": "error",
     "traceback": [
      "\u001b[1;31m---------------------------------------------------------------------------\u001b[0m",
      "\u001b[1;31mIndexError\u001b[0m                                Traceback (most recent call last)",
      "Cell \u001b[1;32mIn [43], line 2\u001b[0m\n\u001b[0;32m      1\u001b[0m a \u001b[38;5;241m=\u001b[39m []\n\u001b[1;32m----> 2\u001b[0m \u001b[43ma\u001b[49m\u001b[43m[\u001b[49m\u001b[38;5;241;43m-\u001b[39;49m\u001b[38;5;241;43m1\u001b[39;49m\u001b[43m]\u001b[49m\n",
      "\u001b[1;31mIndexError\u001b[0m: list index out of range"
     ]
    }
   ],
   "source": [
    "\n"
   ]
  }
 ],
 "metadata": {
  "kernelspec": {
   "display_name": "Python 3 (ipykernel)",
   "language": "python",
   "name": "python3"
  },
  "language_info": {
   "codemirror_mode": {
    "name": "ipython",
    "version": 3
   },
   "file_extension": ".py",
   "mimetype": "text/x-python",
   "name": "python",
   "nbconvert_exporter": "python",
   "pygments_lexer": "ipython3",
   "version": "3.8.10"
  }
 },
 "nbformat": 4,
 "nbformat_minor": 5
}
